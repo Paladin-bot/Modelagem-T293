{
  "nbformat": 4,
  "nbformat_minor": 0,
  "metadata": {
    "colab": {
      "provenance": [],
      "collapsed_sections": [],
      "include_colab_link": true
    },
    "kernelspec": {
      "name": "python3",
      "display_name": "Python 3"
    },
    "language_info": {
      "name": "python"
    }
  },
  "cells": [
    {
      "cell_type": "markdown",
      "metadata": {
        "id": "view-in-github",
        "colab_type": "text"
      },
      "source": [
        "<a href=\"https://colab.research.google.com/github/Paladin-bot/Modelagem-T293/blob/main/ModelagemFenomenoDeTransporte.ipynb\" target=\"_parent\"><img src=\"https://colab.research.google.com/assets/colab-badge.svg\" alt=\"Open In Colab\"/></a>"
      ]
    },
    {
      "cell_type": "code",
      "source": [
        "!pip install ortools\n",
        "from ortools.linear_solver import pywraplp"
      ],
      "metadata": {
        "id": "MWrELiYoyNfo"
      },
      "execution_count": null,
      "outputs": []
    },
    {
      "cell_type": "code",
      "execution_count": 2,
      "metadata": {
        "id": "pd8TT6NrA8Nf"
      },
      "outputs": [],
      "source": [
        "instancia = 'transporte1.txt'\n",
        "with open(instancia) as f:\n",
        "  linha = f.readline()\n",
        "  num_origens = int(linha.split()[0])\n",
        "  num_destinos = int(linha.split()[1])\n",
        "  \n",
        "  linha = f.readline()\n",
        "  producao = linha.split()\n",
        "  for i in range(num_origens):\n",
        "    producao[i] = int(producao[i])\n",
        "  \n",
        "  linha = f.readline()\n",
        "  demanda = linha.split()\n",
        "  for i in range(num_destinos):\n",
        "    demanda[i] = int(demanda[i])\n",
        "  \n",
        "  custo = []\n",
        "  for i in range(num_origens):\n",
        "    linha = f.readline()\n",
        "    c = linha.split()\n",
        "    for j in range(num_destinos):\n",
        "      c[j] = int(c[j])\n",
        "    custo.append(c)"
      ]
    },
    {
      "cell_type": "code",
      "source": [
        "solver = pywraplp.Solver.CreateSolver('SCIP')\n",
        "infinity = solver.infinity()\n",
        "x = [[0 for i in range(num_destinos)] for j in range(num_origens)] \n",
        "for i in range(num_origens):\n",
        "  for j in range(num_destinos):\n",
        "    x[i][j] = solver.IntVar(0, infinity, 'x[' + str(i+1) + ',' + str(j+1) + \"]\")"
      ],
      "metadata": {
        "id": "1TyiRYFtENvZ"
      },
      "execution_count": 3,
      "outputs": []
    },
    {
      "cell_type": "code",
      "source": [
        "objetivo = solver.Objective()\n",
        "for i in range(num_origens):\n",
        "  for j in range(num_destinos):\n",
        "    objetivo.SetCoefficient(x[i][j], custo[i][j])\n",
        "objetivo.SetMinimization()"
      ],
      "metadata": {
        "id": "FUDTCqiSGCTS"
      },
      "execution_count": 4,
      "outputs": []
    },
    {
      "cell_type": "code",
      "source": [
        "for i in range(num_origens):\n",
        "  restricao = solver.RowConstraint(producao[i], producao[i], 'Sai da origem ' + str(i+1))\n",
        "  for j in range(num_destinos):\n",
        "    restricao.SetCoefficient(x[i][j], 1)"
      ],
      "metadata": {
        "id": "dAePmu_WGz5W"
      },
      "execution_count": 5,
      "outputs": []
    },
    {
      "cell_type": "code",
      "source": [
        "for i in range(num_destinos):\n",
        "  restricao = solver.RowConstraint(demanda[i], demanda[i], 'Entra no destino ' + str(i+1))\n",
        "  for j in range(num_origens):\n",
        "    restricao.SetCoefficient(x[j][i], 1)"
      ],
      "metadata": {
        "id": "aVdmTQSWI8A9"
      },
      "execution_count": 6,
      "outputs": []
    },
    {
      "cell_type": "code",
      "source": [
        "status = solver.Solve()\n",
        "if status == pywraplp.Solver.OPTIMAL:\n",
        "  print('Solução ótima:')\n",
        "  for i in range(num_origens):\n",
        "    for j in range(num_destinos):\n",
        "      print(x[i][j].name() + \": \" + str(x[i][j].solution_value()))\n",
        "  print('Custo da função objetivo =', solver.Objective().Value())\n",
        "  print('Custo da função objetivo =', solver.Objective().Value())"
      ],
      "metadata": {
        "colab": {
          "base_uri": "https://localhost:8080/"
        },
        "id": "O6xxdyvLKs_B",
        "outputId": "858cd53f-c3dd-4ed2-ee27-2ce726b8fa7d"
      },
      "execution_count": 7,
      "outputs": [
        {
          "output_type": "stream",
          "name": "stdout",
          "text": [
            "Solução ótima:\n",
            "x[1,1]: 1000.0\n",
            "x[1,2]: -0.0\n",
            "x[2,1]: 1300.0\n",
            "x[2,2]: 200.0\n",
            "x[3,1]: 0.0\n",
            "x[3,2]: 1200.0\n",
            "Custo da função objetivo = 313200.0\n",
            "Custo da função objetivo = 313200.0\n"
          ]
        }
      ]
    },
    {
      "cell_type": "code",
      "source": [
        "print(solver.ExportModelAsLpFormat(False))\n"
      ],
      "metadata": {
        "id": "uwxoi55-NCmH",
        "outputId": "5870d4fe-dad5-45ff-eb1c-ebfe14a87f99",
        "colab": {
          "base_uri": "https://localhost:8080/"
        }
      },
      "execution_count": 8,
      "outputs": [
        {
          "output_type": "stream",
          "name": "stdout",
          "text": [
            "\\ Generated by MPModelProtoExporter\n",
            "\\   Name             : \n",
            "\\   Format           : Free\n",
            "\\   Constraints      : 5\n",
            "\\   Variables        : 6\n",
            "\\     Binary         : 0\n",
            "\\     Integer        : 6\n",
            "\\     Continuous     : 0\n",
            "Minimize\n",
            " Obj: +80 x[1,1] +215 x[1,2] +100 x[2,1] +108 x[2,2] +102 x[3,1] +68 x[3,2] \n",
            "Subject to\n",
            " Sai_da_origem_1: +1 x[1,1] +1 x[1,2]  = 1000\n",
            " Sai_da_origem_2: +1 x[2,1] +1 x[2,2]  = 1500\n",
            " Sai_da_origem_3: +1 x[3,1] +1 x[3,2]  = 1200\n",
            " Entra_no_destino_1: +1 x[1,1] +1 x[2,1] +1 x[3,1]  = 2300\n",
            " Entra_no_destino_2: +1 x[1,2] +1 x[2,2] +1 x[3,2]  = 1400\n",
            "Bounds\n",
            " 0 <= x[1,1] <= inf\n",
            " 0 <= x[1,2] <= inf\n",
            " 0 <= x[2,1] <= inf\n",
            " 0 <= x[2,2] <= inf\n",
            " 0 <= x[3,1] <= inf\n",
            " 0 <= x[3,2] <= inf\n",
            "Generals\n",
            " x[1,1]\n",
            " x[1,2]\n",
            " x[2,1]\n",
            " x[2,2]\n",
            " x[3,1]\n",
            " x[3,2]\n",
            "End\n",
            "\n"
          ]
        }
      ]
    }
  ]
}